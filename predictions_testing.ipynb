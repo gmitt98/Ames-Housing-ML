{
 "cells": [
  {
   "cell_type": "code",
   "execution_count": 46,
   "metadata": {},
   "outputs": [],
   "source": [
    "# dependencies\n",
    "import pandas as pd\n",
    "import os\n",
    "import pickle\n",
    "import numpy as np\n",
    "import joblib\n",
    "my_dir = os.path.dirname(os.path.abspath('__file__'))\n",
    "os.chdir(my_dir)"
   ]
  },
  {
   "cell_type": "code",
   "execution_count": 47,
   "metadata": {},
   "outputs": [],
   "source": [
    "ames = 'data/ames_data_for_model.csv'\n",
    "ames_df = pd.read_csv(ames)"
   ]
  },
  {
   "cell_type": "code",
   "execution_count": 48,
   "metadata": {},
   "outputs": [
    {
     "name": "stdout",
     "output_type": "stream",
     "text": [
      "      Unnamed: 0  Order         PID  MS SubClass MS Zoning  Lot Frontage   \n",
      "0              0      1   526301100         20.0        RL          68.0  \\\n",
      "1              1      2   526302030          NaN       NaN           NaN   \n",
      "2              2      3   526302040          NaN       NaN           NaN   \n",
      "3              3      4   526302110          NaN       NaN           NaN   \n",
      "4              4      5   526302120          NaN       NaN           NaN   \n",
      "...          ...    ...         ...          ...       ...           ...   \n",
      "2925        2925   2926   924100070          NaN       NaN           NaN   \n",
      "2926        2926   2927   924151040          NaN       NaN           NaN   \n",
      "2927        2927   2928   924151050          NaN       NaN           NaN   \n",
      "2928        2928   2929   924152030          NaN       NaN           NaN   \n",
      "2929        2929   2930  1007100110          NaN       NaN           NaN   \n",
      "\n",
      "      Lot Area Street Alley Lot Shape  ...  Fence Misc Feature Misc Val   \n",
      "0       9600.0   Pave  Grvl       Reg  ...  MnPrv         Shed      0.0  \\\n",
      "1          NaN    NaN   NaN       NaN  ...    NaN          NaN      NaN   \n",
      "2          NaN    NaN   NaN       NaN  ...    NaN          NaN      NaN   \n",
      "3          NaN    NaN   NaN       NaN  ...    NaN          NaN      NaN   \n",
      "4          NaN    NaN   NaN       NaN  ...    NaN          NaN      NaN   \n",
      "...        ...    ...   ...       ...  ...    ...          ...      ...   \n",
      "2925       NaN    NaN   NaN       NaN  ...    NaN          NaN      NaN   \n",
      "2926       NaN    NaN   NaN       NaN  ...    NaN          NaN      NaN   \n",
      "2927       NaN    NaN   NaN       NaN  ...    NaN          NaN      NaN   \n",
      "2928       NaN    NaN   NaN       NaN  ...    NaN          NaN      NaN   \n",
      "2929       NaN    NaN   NaN       NaN  ...    NaN          NaN      NaN   \n",
      "\n",
      "     Mo Sold Yr Sold Sale Type Sale Condition SalePrice Avg CS Index Value   \n",
      "0        6.0  2007.0       WD          Normal  135000.0             179.94  \\\n",
      "1        NaN     NaN       NaN            NaN       NaN                NaN   \n",
      "2        NaN     NaN       NaN            NaN       NaN                NaN   \n",
      "3        NaN     NaN       NaN            NaN       NaN                NaN   \n",
      "4        NaN     NaN       NaN            NaN       NaN                NaN   \n",
      "...      ...     ...       ...            ...       ...                ...   \n",
      "2925     NaN     NaN       NaN            NaN       NaN                NaN   \n",
      "2926     NaN     NaN       NaN            NaN       NaN                NaN   \n",
      "2927     NaN     NaN       NaN            NaN       NaN                NaN   \n",
      "2928     NaN     NaN       NaN            NaN       NaN                NaN   \n",
      "2929     NaN     NaN       NaN            NaN       NaN                NaN   \n",
      "\n",
      "      Total SF  \n",
      "0       1728.0  \n",
      "1          NaN  \n",
      "2          NaN  \n",
      "3          NaN  \n",
      "4          NaN  \n",
      "...        ...  \n",
      "2925       NaN  \n",
      "2926       NaN  \n",
      "2927       NaN  \n",
      "2928       NaN  \n",
      "2929       NaN  \n",
      "\n",
      "[2930 rows x 85 columns]\n"
     ]
    }
   ],
   "source": [
    "modes = ames_df.mode()\n",
    "print(modes)"
   ]
  },
  {
   "cell_type": "code",
   "execution_count": 49,
   "metadata": {},
   "outputs": [],
   "source": [
    "top_row = modes.iloc[0]"
   ]
  },
  {
   "cell_type": "code",
   "execution_count": 50,
   "metadata": {},
   "outputs": [
    {
     "data": {
      "text/plain": [
       "'Reg'"
      ]
     },
     "execution_count": 50,
     "metadata": {},
     "output_type": "execute_result"
    }
   ],
   "source": [
    "top_row[9]"
   ]
  },
  {
   "cell_type": "code",
   "execution_count": 51,
   "metadata": {},
   "outputs": [],
   "source": [
    "data_to_predict = top_row"
   ]
  },
  {
   "cell_type": "code",
   "execution_count": 52,
   "metadata": {},
   "outputs": [],
   "source": [
    "new_sqft = 3000 # Any number [84]\n",
    "new_street = 'Pave' # Pave, Grvl  [7]\n",
    "new_lot_config = 'Corner' # Corner, Inside  [12]\n",
    "new_building_type = '1Fam' # 1Fam, Twnhs, TwnhsE, 2fmCon, Duplex  [17]\n",
    "new_year_built = 1978 # [21]\n",
    "new_overall_qual = 5 # [19]\n",
    "new_overall_cond = 5 # [20]\n",
    "new_central_air = 'Y' # Y, N  [43]\n",
    "new_bedrooms_above_ground = 3 #  [53]\n",
    "new_full_bath = 2 # [51]\n",
    "new_half_bath = 1 # [52]"
   ]
  },
  {
   "cell_type": "code",
   "execution_count": 53,
   "metadata": {},
   "outputs": [
    {
     "name": "stderr",
     "output_type": "stream",
     "text": [
      "/var/folders/hl/p3c4xh5x4nv00kvc7sckx1040000gn/T/ipykernel_9670/2171594242.py:1: SettingWithCopyWarning: \n",
      "A value is trying to be set on a copy of a slice from a DataFrame\n",
      "\n",
      "See the caveats in the documentation: https://pandas.pydata.org/pandas-docs/stable/user_guide/indexing.html#returning-a-view-versus-a-copy\n",
      "  data_to_predict[84] = new_sqft\n",
      "/var/folders/hl/p3c4xh5x4nv00kvc7sckx1040000gn/T/ipykernel_9670/2171594242.py:2: SettingWithCopyWarning: \n",
      "A value is trying to be set on a copy of a slice from a DataFrame\n",
      "\n",
      "See the caveats in the documentation: https://pandas.pydata.org/pandas-docs/stable/user_guide/indexing.html#returning-a-view-versus-a-copy\n",
      "  data_to_predict[7]=new_street\n",
      "/var/folders/hl/p3c4xh5x4nv00kvc7sckx1040000gn/T/ipykernel_9670/2171594242.py:3: SettingWithCopyWarning: \n",
      "A value is trying to be set on a copy of a slice from a DataFrame\n",
      "\n",
      "See the caveats in the documentation: https://pandas.pydata.org/pandas-docs/stable/user_guide/indexing.html#returning-a-view-versus-a-copy\n",
      "  data_to_predict[12]=new_lot_config\n",
      "/var/folders/hl/p3c4xh5x4nv00kvc7sckx1040000gn/T/ipykernel_9670/2171594242.py:4: SettingWithCopyWarning: \n",
      "A value is trying to be set on a copy of a slice from a DataFrame\n",
      "\n",
      "See the caveats in the documentation: https://pandas.pydata.org/pandas-docs/stable/user_guide/indexing.html#returning-a-view-versus-a-copy\n",
      "  data_to_predict[17]=new_building_type\n",
      "/var/folders/hl/p3c4xh5x4nv00kvc7sckx1040000gn/T/ipykernel_9670/2171594242.py:5: SettingWithCopyWarning: \n",
      "A value is trying to be set on a copy of a slice from a DataFrame\n",
      "\n",
      "See the caveats in the documentation: https://pandas.pydata.org/pandas-docs/stable/user_guide/indexing.html#returning-a-view-versus-a-copy\n",
      "  data_to_predict[21]=new_year_built\n",
      "/var/folders/hl/p3c4xh5x4nv00kvc7sckx1040000gn/T/ipykernel_9670/2171594242.py:6: SettingWithCopyWarning: \n",
      "A value is trying to be set on a copy of a slice from a DataFrame\n",
      "\n",
      "See the caveats in the documentation: https://pandas.pydata.org/pandas-docs/stable/user_guide/indexing.html#returning-a-view-versus-a-copy\n",
      "  data_to_predict[19]=new_overall_qual\n",
      "/var/folders/hl/p3c4xh5x4nv00kvc7sckx1040000gn/T/ipykernel_9670/2171594242.py:7: SettingWithCopyWarning: \n",
      "A value is trying to be set on a copy of a slice from a DataFrame\n",
      "\n",
      "See the caveats in the documentation: https://pandas.pydata.org/pandas-docs/stable/user_guide/indexing.html#returning-a-view-versus-a-copy\n",
      "  data_to_predict[20]=new_overall_cond\n",
      "/var/folders/hl/p3c4xh5x4nv00kvc7sckx1040000gn/T/ipykernel_9670/2171594242.py:8: SettingWithCopyWarning: \n",
      "A value is trying to be set on a copy of a slice from a DataFrame\n",
      "\n",
      "See the caveats in the documentation: https://pandas.pydata.org/pandas-docs/stable/user_guide/indexing.html#returning-a-view-versus-a-copy\n",
      "  data_to_predict[43]=new_central_air\n",
      "/var/folders/hl/p3c4xh5x4nv00kvc7sckx1040000gn/T/ipykernel_9670/2171594242.py:9: SettingWithCopyWarning: \n",
      "A value is trying to be set on a copy of a slice from a DataFrame\n",
      "\n",
      "See the caveats in the documentation: https://pandas.pydata.org/pandas-docs/stable/user_guide/indexing.html#returning-a-view-versus-a-copy\n",
      "  data_to_predict[53]=new_bedrooms_above_ground = 3\n",
      "/var/folders/hl/p3c4xh5x4nv00kvc7sckx1040000gn/T/ipykernel_9670/2171594242.py:10: SettingWithCopyWarning: \n",
      "A value is trying to be set on a copy of a slice from a DataFrame\n",
      "\n",
      "See the caveats in the documentation: https://pandas.pydata.org/pandas-docs/stable/user_guide/indexing.html#returning-a-view-versus-a-copy\n",
      "  data_to_predict[51]=new_full_bath = 2\n",
      "/var/folders/hl/p3c4xh5x4nv00kvc7sckx1040000gn/T/ipykernel_9670/2171594242.py:11: SettingWithCopyWarning: \n",
      "A value is trying to be set on a copy of a slice from a DataFrame\n",
      "\n",
      "See the caveats in the documentation: https://pandas.pydata.org/pandas-docs/stable/user_guide/indexing.html#returning-a-view-versus-a-copy\n",
      "  data_to_predict[52]=new_half_bath = 1\n"
     ]
    }
   ],
   "source": [
    "data_to_predict[84] = new_sqft\n",
    "data_to_predict[7]=new_street\n",
    "data_to_predict[12]=new_lot_config\n",
    "data_to_predict[17]=new_building_type\n",
    "data_to_predict[21]=new_year_built\n",
    "data_to_predict[19]=new_overall_qual\n",
    "data_to_predict[20]=new_overall_cond\n",
    "data_to_predict[43]=new_central_air\n",
    "data_to_predict[53]=new_bedrooms_above_ground = 3\n",
    "data_to_predict[51]=new_full_bath = 2\n",
    "data_to_predict[52]=new_half_bath = 1"
   ]
  },
  {
   "cell_type": "code",
   "execution_count": 54,
   "metadata": {},
   "outputs": [],
   "source": [
    "model = joblib.load('best_model.pkl')"
   ]
  },
  {
   "cell_type": "code",
   "execution_count": 55,
   "metadata": {},
   "outputs": [
    {
     "name": "stderr",
     "output_type": "stream",
     "text": [
      "/Users/galenmittermann/opt/anaconda3/lib/python3.9/site-packages/sklearn/base.py:450: UserWarning: X does not have valid feature names, but GradientBoostingRegressor was fitted with feature names\n",
      "  warnings.warn(\n"
     ]
    },
    {
     "ename": "ValueError",
     "evalue": "could not convert string to float: 'RL'",
     "output_type": "error",
     "traceback": [
      "\u001b[0;31m---------------------------------------------------------------------------\u001b[0m",
      "\u001b[0;31mValueError\u001b[0m                                Traceback (most recent call last)",
      "Cell \u001b[0;32mIn[55], line 1\u001b[0m\n\u001b[0;32m----> 1\u001b[0m prediction \u001b[39m=\u001b[39m model\u001b[39m.\u001b[39;49mpredict(data_to_predict)\n\u001b[1;32m      2\u001b[0m \u001b[39mprint\u001b[39m(prediction)\n",
      "File \u001b[0;32m~/opt/anaconda3/lib/python3.9/site-packages/sklearn/ensemble/_gb.py:1877\u001b[0m, in \u001b[0;36mGradientBoostingRegressor.predict\u001b[0;34m(self, X)\u001b[0m\n\u001b[1;32m   1862\u001b[0m \u001b[39mdef\u001b[39;00m \u001b[39mpredict\u001b[39m(\u001b[39mself\u001b[39m, X):\n\u001b[1;32m   1863\u001b[0m     \u001b[39m\"\"\"Predict regression target for X.\u001b[39;00m\n\u001b[1;32m   1864\u001b[0m \n\u001b[1;32m   1865\u001b[0m \u001b[39m    Parameters\u001b[39;00m\n\u001b[0;32m   (...)\u001b[0m\n\u001b[1;32m   1875\u001b[0m \u001b[39m        The predicted values.\u001b[39;00m\n\u001b[1;32m   1876\u001b[0m \u001b[39m    \"\"\"\u001b[39;00m\n\u001b[0;32m-> 1877\u001b[0m     X \u001b[39m=\u001b[39m \u001b[39mself\u001b[39;49m\u001b[39m.\u001b[39;49m_validate_data(\n\u001b[1;32m   1878\u001b[0m         X, dtype\u001b[39m=\u001b[39;49mDTYPE, order\u001b[39m=\u001b[39;49m\u001b[39m\"\u001b[39;49m\u001b[39mC\u001b[39;49m\u001b[39m\"\u001b[39;49m, accept_sparse\u001b[39m=\u001b[39;49m\u001b[39m\"\u001b[39;49m\u001b[39mcsr\u001b[39;49m\u001b[39m\"\u001b[39;49m, reset\u001b[39m=\u001b[39;49m\u001b[39mFalse\u001b[39;49;00m\n\u001b[1;32m   1879\u001b[0m     )\n\u001b[1;32m   1880\u001b[0m     \u001b[39m# In regression we can directly return the raw value from the trees.\u001b[39;00m\n\u001b[1;32m   1881\u001b[0m     \u001b[39mreturn\u001b[39;00m \u001b[39mself\u001b[39m\u001b[39m.\u001b[39m_raw_predict(X)\u001b[39m.\u001b[39mravel()\n",
      "File \u001b[0;32m~/opt/anaconda3/lib/python3.9/site-packages/sklearn/base.py:566\u001b[0m, in \u001b[0;36mBaseEstimator._validate_data\u001b[0;34m(self, X, y, reset, validate_separately, **check_params)\u001b[0m\n\u001b[1;32m    564\u001b[0m     \u001b[39mraise\u001b[39;00m \u001b[39mValueError\u001b[39;00m(\u001b[39m\"\u001b[39m\u001b[39mValidation should be done on X, y or both.\u001b[39m\u001b[39m\"\u001b[39m)\n\u001b[1;32m    565\u001b[0m \u001b[39melif\u001b[39;00m \u001b[39mnot\u001b[39;00m no_val_X \u001b[39mand\u001b[39;00m no_val_y:\n\u001b[0;32m--> 566\u001b[0m     X \u001b[39m=\u001b[39m check_array(X, \u001b[39m*\u001b[39;49m\u001b[39m*\u001b[39;49mcheck_params)\n\u001b[1;32m    567\u001b[0m     out \u001b[39m=\u001b[39m X\n\u001b[1;32m    568\u001b[0m \u001b[39melif\u001b[39;00m no_val_X \u001b[39mand\u001b[39;00m \u001b[39mnot\u001b[39;00m no_val_y:\n",
      "File \u001b[0;32m~/opt/anaconda3/lib/python3.9/site-packages/sklearn/utils/validation.py:746\u001b[0m, in \u001b[0;36mcheck_array\u001b[0;34m(array, accept_sparse, accept_large_sparse, dtype, order, copy, force_all_finite, ensure_2d, allow_nd, ensure_min_samples, ensure_min_features, estimator)\u001b[0m\n\u001b[1;32m    744\u001b[0m         array \u001b[39m=\u001b[39m array\u001b[39m.\u001b[39mastype(dtype, casting\u001b[39m=\u001b[39m\u001b[39m\"\u001b[39m\u001b[39munsafe\u001b[39m\u001b[39m\"\u001b[39m, copy\u001b[39m=\u001b[39m\u001b[39mFalse\u001b[39;00m)\n\u001b[1;32m    745\u001b[0m     \u001b[39melse\u001b[39;00m:\n\u001b[0;32m--> 746\u001b[0m         array \u001b[39m=\u001b[39m np\u001b[39m.\u001b[39;49masarray(array, order\u001b[39m=\u001b[39;49morder, dtype\u001b[39m=\u001b[39;49mdtype)\n\u001b[1;32m    747\u001b[0m \u001b[39mexcept\u001b[39;00m ComplexWarning \u001b[39mas\u001b[39;00m complex_warning:\n\u001b[1;32m    748\u001b[0m     \u001b[39mraise\u001b[39;00m \u001b[39mValueError\u001b[39;00m(\n\u001b[1;32m    749\u001b[0m         \u001b[39m\"\u001b[39m\u001b[39mComplex data not supported\u001b[39m\u001b[39m\\n\u001b[39;00m\u001b[39m{}\u001b[39;00m\u001b[39m\\n\u001b[39;00m\u001b[39m\"\u001b[39m\u001b[39m.\u001b[39mformat(array)\n\u001b[1;32m    750\u001b[0m     ) \u001b[39mfrom\u001b[39;00m \u001b[39mcomplex_warning\u001b[39;00m\n",
      "File \u001b[0;32m~/opt/anaconda3/lib/python3.9/site-packages/pandas/core/series.py:917\u001b[0m, in \u001b[0;36mSeries.__array__\u001b[0;34m(self, dtype)\u001b[0m\n\u001b[1;32m    870\u001b[0m \u001b[39m\"\"\"\u001b[39;00m\n\u001b[1;32m    871\u001b[0m \u001b[39mReturn the values as a NumPy array.\u001b[39;00m\n\u001b[1;32m    872\u001b[0m \n\u001b[0;32m   (...)\u001b[0m\n\u001b[1;32m    914\u001b[0m \u001b[39m      dtype='datetime64[ns]')\u001b[39;00m\n\u001b[1;32m    915\u001b[0m \u001b[39m\"\"\"\u001b[39;00m\n\u001b[1;32m    916\u001b[0m values \u001b[39m=\u001b[39m \u001b[39mself\u001b[39m\u001b[39m.\u001b[39m_values\n\u001b[0;32m--> 917\u001b[0m arr \u001b[39m=\u001b[39m np\u001b[39m.\u001b[39;49masarray(values, dtype\u001b[39m=\u001b[39;49mdtype)\n\u001b[1;32m    918\u001b[0m \u001b[39mif\u001b[39;00m using_copy_on_write() \u001b[39mand\u001b[39;00m astype_is_view(values\u001b[39m.\u001b[39mdtype, arr\u001b[39m.\u001b[39mdtype):\n\u001b[1;32m    919\u001b[0m     arr \u001b[39m=\u001b[39m arr\u001b[39m.\u001b[39mview()\n",
      "\u001b[0;31mValueError\u001b[0m: could not convert string to float: 'RL'"
     ]
    }
   ],
   "source": [
    "prediction = model.predict(data_to_predict)\n",
    "print(prediction)"
   ]
  },
  {
   "cell_type": "code",
   "execution_count": 57,
   "metadata": {},
   "outputs": [],
   "source": [
    "import latexify as lp\n",
    "import math"
   ]
  },
  {
   "cell_type": "code",
   "execution_count": 59,
   "metadata": {},
   "outputs": [
    {
     "data": {
      "text/latex": [
       "$$ \\displaystyle \\mathrm{solve}(a, b, c) = \\frac{-b + \\sqrt{b^{{2}} - {4} a c}}{{2} a} $$"
      ],
      "text/plain": [
       "<latexify.frontend.LatexifiedFunction at 0x7fb1385eac40>"
      ]
     },
     "execution_count": 59,
     "metadata": {},
     "output_type": "execute_result"
    }
   ],
   "source": [
    "@lp.with_latex\n",
    "def solve(a,b,c):\n",
    "    return(-b + math.sqrt(b**2 - 4*a*c))/(2*(a))\n",
    "solve"
   ]
  },
  {
   "cell_type": "code",
   "execution_count": 60,
   "metadata": {},
   "outputs": [
    {
     "data": {
      "text/latex": [
       "$$ \\displaystyle \\mathrm{sinc}(x) = \\left\\{ \\begin{array}{ll} {1}, & \\mathrm{if} \\ {x = {0}} \\\\ \\frac{\\sin{\\left({x}\\right)}}{x}, & \\mathrm{otherwise} \\end{array} \\right. $$"
      ],
      "text/plain": [
       "<latexify.frontend.LatexifiedFunction at 0x7fb118493d30>"
      ]
     },
     "execution_count": 60,
     "metadata": {},
     "output_type": "execute_result"
    }
   ],
   "source": [
    "@lp.with_latex\n",
    "def sinc(x):\n",
    "    if x ==0:\n",
    "        return 1\n",
    "    else:\n",
    "        return math.sin(x)/x\n",
    "sinc"
   ]
  },
  {
   "cell_type": "code",
   "execution_count": 63,
   "metadata": {},
   "outputs": [
    {
     "ename": "ValueError",
     "evalue": "math domain error",
     "output_type": "error",
     "traceback": [
      "\u001b[0;31m---------------------------------------------------------------------------\u001b[0m",
      "\u001b[0;31mValueError\u001b[0m                                Traceback (most recent call last)",
      "Cell \u001b[0;32mIn[63], line 1\u001b[0m\n\u001b[0;32m----> 1\u001b[0m \u001b[39mprint\u001b[39m(solve(\u001b[39m1\u001b[39;49m,\u001b[39m2\u001b[39;49m,\u001b[39m3\u001b[39;49m))\n",
      "File \u001b[0;32m~/opt/anaconda3/lib/python3.9/site-packages/latexify/frontend.py:101\u001b[0m, in \u001b[0;36mLatexifiedFunction.__call__\u001b[0;34m(self, *args)\u001b[0m\n\u001b[1;32m    100\u001b[0m \u001b[39mdef\u001b[39;00m \u001b[39m__call__\u001b[39m(\u001b[39mself\u001b[39m, \u001b[39m*\u001b[39margs):\n\u001b[0;32m--> 101\u001b[0m     \u001b[39mreturn\u001b[39;00m \u001b[39mself\u001b[39;49m\u001b[39m.\u001b[39;49m_fn(\u001b[39m*\u001b[39;49margs)\n",
      "Cell \u001b[0;32mIn[59], line 3\u001b[0m, in \u001b[0;36msolve\u001b[0;34m(a, b, c)\u001b[0m\n\u001b[1;32m      1\u001b[0m \u001b[39m@lp\u001b[39m\u001b[39m.\u001b[39mwith_latex\n\u001b[1;32m      2\u001b[0m \u001b[39mdef\u001b[39;00m \u001b[39msolve\u001b[39m(a,b,c):\n\u001b[0;32m----> 3\u001b[0m     \u001b[39mreturn\u001b[39;00m(\u001b[39m-\u001b[39mb \u001b[39m+\u001b[39m math\u001b[39m.\u001b[39;49msqrt(b\u001b[39m*\u001b[39;49m\u001b[39m*\u001b[39;49m\u001b[39m2\u001b[39;49m \u001b[39m-\u001b[39;49m \u001b[39m4\u001b[39;49m\u001b[39m*\u001b[39;49ma\u001b[39m*\u001b[39;49mc))\u001b[39m/\u001b[39m(\u001b[39m2\u001b[39m\u001b[39m*\u001b[39m(a))\n",
      "\u001b[0;31mValueError\u001b[0m: math domain error"
     ]
    }
   ],
   "source": [
    "print(solve(1,2,3))"
   ]
  }
 ],
 "metadata": {
  "kernelspec": {
   "display_name": "base",
   "language": "python",
   "name": "python3"
  },
  "language_info": {
   "codemirror_mode": {
    "name": "ipython",
    "version": 3
   },
   "file_extension": ".py",
   "mimetype": "text/x-python",
   "name": "python",
   "nbconvert_exporter": "python",
   "pygments_lexer": "ipython3",
   "version": "3.9.12"
  },
  "orig_nbformat": 4
 },
 "nbformat": 4,
 "nbformat_minor": 2
}
